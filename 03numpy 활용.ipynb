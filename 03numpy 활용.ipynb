{
 "cells": [
  {
   "cell_type": "markdown",
   "metadata": {},
   "source": [
    "# 강의노트\n",
    "### Numpy의 활용"
   ]
  },
  {
   "cell_type": "code",
   "execution_count": 2,
   "metadata": {},
   "outputs": [],
   "source": [
    "import numpy as np"
   ]
  },
  {
   "cell_type": "code",
   "execution_count": 5,
   "metadata": {},
   "outputs": [
    {
     "name": "stdout",
     "output_type": "stream",
     "text": [
      "[0 1 2 3 4 5 6 7 8 9]\n"
     ]
    }
   ],
   "source": [
    "# 단일 객체 저장 및 불러오기\n",
    "\n",
    "array = np.arange(0, 10)\n",
    "np.save('saved.npy', array)  #객체 저장\n",
    "\n",
    "result = np.load('saved.npy')\n",
    "print(result)"
   ]
  },
  {
   "cell_type": "code",
   "execution_count": 9,
   "metadata": {},
   "outputs": [
    {
     "name": "stdout",
     "output_type": "stream",
     "text": [
      "[0 1 2 3 4 5 6 7 8 9]\n",
      "[10 11 12 13 14 15 16 17 18 19]\n"
     ]
    }
   ],
   "source": [
    "# 복수 객체 저장 및 불러오기\n",
    "\n",
    "array1 = np.arange(0, 10)\n",
    "array2 = np.arange(10, 20)\n",
    "np.savez('saved.npz', array_1 = array1, array_2 = array2)\n",
    "\n",
    "data = np.load('saved.npz')\n",
    "result1 = data['array_1']\n",
    "result2 = data['array_2']\n",
    "\n",
    "print(result1)\n",
    "print(result2)"
   ]
  },
  {
   "cell_type": "code",
   "execution_count": 20,
   "metadata": {},
   "outputs": [
    {
     "name": "stdout",
     "output_type": "stream",
     "text": [
      "[ 1  3  5  9 10]\n"
     ]
    }
   ],
   "source": [
    "# 원소의 정렬 (기본은 오름차순)\n",
    "\n",
    "array = np.array([5, 9, 10, 3, 1])\n",
    "array.sort()\n",
    "print(array)"
   ]
  },
  {
   "cell_type": "code",
   "execution_count": 22,
   "metadata": {},
   "outputs": [
    {
     "name": "stdout",
     "output_type": "stream",
     "text": [
      "[10  9  5  3  1]\n"
     ]
    }
   ],
   "source": [
    "# 내림차순\n",
    "\n",
    "print(array[::-1])"
   ]
  },
  {
   "cell_type": "code",
   "execution_count": 26,
   "metadata": {},
   "outputs": [
    {
     "name": "stdout",
     "output_type": "stream",
     "text": [
      "[[ 5  9 10  3  1]\n",
      " [ 8  3  4  2  5]]\n",
      "[[ 5  3  4  2  1]\n",
      " [ 8  9 10  3  5]]\n"
     ]
    }
   ],
   "source": [
    "# 각 열을 기준으로 정렬 (오름차순)\n",
    "\n",
    "array = np.array([[5, 9, 10, 3, 1], [8, 3, 4, 2, 5]])\n",
    "print(array)\n",
    "array.sort(axis = 0)\n",
    "print(array)"
   ]
  },
  {
   "cell_type": "code",
   "execution_count": 28,
   "metadata": {},
   "outputs": [
    {
     "name": "stdout",
     "output_type": "stream",
     "text": [
      "[ 0.   2.5  5.   7.5 10. ]\n"
     ]
    }
   ],
   "source": [
    "# 균일한 간격으로 데이터 생성\n",
    "\n",
    "array = np.linspace(0, 10, 5)\n",
    "print(array)"
   ]
  },
  {
   "cell_type": "code",
   "execution_count": 120,
   "metadata": {},
   "outputs": [
    {
     "name": "stdout",
     "output_type": "stream",
     "text": [
      "[[4 9 6]\n",
      " [3 3 7]]\n"
     ]
    }
   ],
   "source": [
    "# 난수의 재연 (실행마다 결과 동일)\n",
    "\n",
    "np.random.seed(7) #랜덤으로 발생되는 난수의 특정 값을 고정가능\n",
    "print(np.random.randint(0, 10, (2, 3)))"
   ]
  },
  {
   "cell_type": "code",
   "execution_count": 122,
   "metadata": {},
   "outputs": [
    {
     "name": "stdout",
     "output_type": "stream",
     "text": [
      "[99  1  2  3  4  5  6  7  8  9]\n"
     ]
    }
   ],
   "source": [
    "# 배열 객체 복사\n",
    "\n",
    "array1 = np.arange(0, 10)\n",
    "array2 = array1\n",
    "array2[0] = 99\n",
    "print(array1)  #array2를 수정했는데 array1값이 변경됨."
   ]
  },
  {
   "cell_type": "code",
   "execution_count": 124,
   "metadata": {},
   "outputs": [
    {
     "name": "stdout",
     "output_type": "stream",
     "text": [
      "[0 1 2 3 4 5 6 7 8 9]\n",
      "[99  1  2  3  4  5  6  7  8  9]\n"
     ]
    }
   ],
   "source": [
    "array1 = np.arange(10)\n",
    "array2 = array1.copy()\n",
    "array2[0] = 99\n",
    "\n",
    "print(array1)\n",
    "print(array2) #array2만 수정 가능"
   ]
  },
  {
   "cell_type": "code",
   "execution_count": 127,
   "metadata": {},
   "outputs": [
    {
     "name": "stdout",
     "output_type": "stream",
     "text": [
      "[1 2 3 4]\n",
      "[1 2 1 1 1 2 2 3 3 4]\n",
      "[1 2 3 4]\n"
     ]
    }
   ],
   "source": [
    "# 중복된 원소 제거\n",
    "\n",
    "array = np.array([1,2,1,1,1,2,2,3,3,4])\n",
    "print(np.unique(array))\n",
    "print(array)\n",
    "\n",
    "array = np.unique(array)\n",
    "print(array)"
   ]
  }
 ],
 "metadata": {
  "kernelspec": {
   "display_name": "Python 3",
   "language": "python",
   "name": "python3"
  },
  "language_info": {
   "codemirror_mode": {
    "name": "ipython",
    "version": 3
   },
   "file_extension": ".py",
   "mimetype": "text/x-python",
   "name": "python",
   "nbconvert_exporter": "python",
   "pygments_lexer": "ipython3",
   "version": "3.6.2"
  }
 },
 "nbformat": 4,
 "nbformat_minor": 4
}
